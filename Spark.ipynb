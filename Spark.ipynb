{
 "cells": [
  {
   "cell_type": "code",
   "execution_count": 19,
   "id": "efe476e8",
   "metadata": {},
   "outputs": [],
   "source": [
    "import findspark\n",
    "findspark.init()\n",
    "import pyspark\n",
    "from pyspark.sql import *\n",
    "from pyspark.sql.functions import when, lit"
   ]
  },
  {
   "cell_type": "code",
   "execution_count": 3,
   "id": "cf002c46",
   "metadata": {},
   "outputs": [
    {
     "name": "stderr",
     "output_type": "stream",
     "text": [
      "23/06/25 16:56:37 WARN Utils: Your hostname, DSaDBA resolves to a loopback address: 127.0.1.1; using 10.0.2.15 instead (on interface enp0s3)\n",
      "23/06/25 16:56:37 WARN Utils: Set SPARK_LOCAL_IP if you need to bind to another address\n",
      "Using Spark's default log4j profile: org/apache/spark/log4j-defaults.properties\n",
      "Setting default log level to \"WARN\".\n",
      "To adjust logging level use sc.setLogLevel(newLevel). For SparkR, use setLogLevel(newLevel).\n",
      "23/06/25 16:56:38 WARN NativeCodeLoader: Unable to load native-hadoop library for your platform... using builtin-java classes where applicable\n"
     ]
    }
   ],
   "source": [
    "sc = pyspark.SparkContext(appName=\"Pi\")\n",
    "spark = SparkSession(sc)"
   ]
  },
  {
   "cell_type": "code",
   "execution_count": 5,
   "id": "87aa97c5",
   "metadata": {},
   "outputs": [],
   "source": [
    "banking_df = spark.read.csv(\"data.csv\", inferSchema = True, header = True)"
   ]
  },
  {
   "cell_type": "code",
   "execution_count": 6,
   "id": "c793ddfe",
   "metadata": {},
   "outputs": [
    {
     "data": {
      "text/plain": [
       "Row(ID=1, Age=25, Experience=1, Income=49, ZIP Code=91107, Family=4, CCAvg=1.6, Education=1, Mortgage=0, Personal Loan=0, Securities Account=1, CD Account=0, Online=0, CreditCard=0)"
      ]
     },
     "execution_count": 6,
     "metadata": {},
     "output_type": "execute_result"
    }
   ],
   "source": [
    "banking_df.head()"
   ]
  },
  {
   "cell_type": "code",
   "execution_count": 7,
   "id": "17dd6407",
   "metadata": {},
   "outputs": [
    {
     "name": "stdout",
     "output_type": "stream",
     "text": [
      "root\n",
      " |-- ID: integer (nullable = true)\n",
      " |-- Age: integer (nullable = true)\n",
      " |-- Experience: integer (nullable = true)\n",
      " |-- Income: integer (nullable = true)\n",
      " |-- ZIP Code: integer (nullable = true)\n",
      " |-- Family: integer (nullable = true)\n",
      " |-- CCAvg: double (nullable = true)\n",
      " |-- Education: integer (nullable = true)\n",
      " |-- Mortgage: integer (nullable = true)\n",
      " |-- Personal Loan: integer (nullable = true)\n",
      " |-- Securities Account: integer (nullable = true)\n",
      " |-- CD Account: integer (nullable = true)\n",
      " |-- Online: integer (nullable = true)\n",
      " |-- CreditCard: integer (nullable = true)\n",
      "\n"
     ]
    }
   ],
   "source": [
    "banking_df.printSchema()"
   ]
  },
  {
   "cell_type": "code",
   "execution_count": null,
   "id": "25bb6fad",
   "metadata": {},
   "outputs": [],
   "source": [
    "## boomers are older than 59 this year (2023) 59-77 years old\n",
    "## generationX are older than 44 this year and less than 59 44-58 years old\n",
    "## milennials are older than 29 this year 29-43 years old\n",
    "## generationZ are older than 11 this year 11-28 years old\n"
   ]
  },
  {
   "cell_type": "code",
   "execution_count": 8,
   "id": "2cf78e42",
   "metadata": {},
   "outputs": [],
   "source": [
    "boomers = banking_df.filter(banking_df.Age>58)"
   ]
  },
  {
   "cell_type": "code",
   "execution_count": 11,
   "id": "65e67a1d",
   "metadata": {},
   "outputs": [],
   "source": [
    "generationX = banking_df.filter((banking_df.Age>=44)&(banking_df.Age<59))"
   ]
  },
  {
   "cell_type": "code",
   "execution_count": 14,
   "id": "451559ca",
   "metadata": {},
   "outputs": [],
   "source": [
    "millenials=banking_df.filter((banking_df.Age>=29)&(banking_df.Age<44))\n"
   ]
  },
  {
   "cell_type": "code",
   "execution_count": 15,
   "id": "3601e7bc",
   "metadata": {},
   "outputs": [],
   "source": [
    "generationZ=banking_df.filter((banking_df.Age>=11)&(banking_df.Age<29))"
   ]
  },
  {
   "cell_type": "code",
   "execution_count": 36,
   "id": "998996a6",
   "metadata": {},
   "outputs": [],
   "source": [
    "banking_df = banking_df.withColumn(\"Generation\",\n",
    "    when((banking_df.Age <= 28), lit(\"GenerationZ\"))\n",
    "    .when((banking_df.Age > 28) & (banking_df.Age <= 44), lit(\"Millennials\"))\n",
    "    .when((banking_df.Age > 44) & (banking_df.Age <= 59), lit(\"GenerationX\"))\n",
    "    .otherwise(lit(\"Boomers\"))\n",
    ")"
   ]
  },
  {
   "cell_type": "code",
   "execution_count": 37,
   "id": "c26e8bf5",
   "metadata": {},
   "outputs": [
    {
     "data": {
      "text/plain": [
       "['ID',\n",
       " 'Age',\n",
       " 'Experience',\n",
       " 'Income',\n",
       " 'ZIP Code',\n",
       " 'Family',\n",
       " 'CCAvg',\n",
       " 'Education',\n",
       " 'Mortgage',\n",
       " 'Personal Loan',\n",
       " 'Securities Account',\n",
       " 'CD Account',\n",
       " 'Online',\n",
       " 'CreditCard',\n",
       " 'Generation']"
      ]
     },
     "execution_count": 37,
     "metadata": {},
     "output_type": "execute_result"
    }
   ],
   "source": [
    "banking_df.columns"
   ]
  },
  {
   "cell_type": "code",
   "execution_count": 38,
   "id": "b88c0377",
   "metadata": {},
   "outputs": [
    {
     "name": "stdout",
     "output_type": "stream",
     "text": [
      "+-----------+-----+\n",
      "| Generation|count|\n",
      "+-----------+-----+\n",
      "|GenerationX| 1934|\n",
      "|Millennials| 2027|\n",
      "|GenerationZ|  365|\n",
      "|    Boomers|  674|\n",
      "+-----------+-----+\n",
      "\n"
     ]
    }
   ],
   "source": [
    "generation_df = banking_df.groupby(\"Generation\")\n",
    "generation_df.count().show()"
   ]
  },
  {
   "cell_type": "code",
   "execution_count": 41,
   "id": "44c8fc69",
   "metadata": {},
   "outputs": [
    {
     "data": {
      "text/plain": [
       "<pyspark.sql.group.GroupedData at 0x7f4aa6706550>"
      ]
     },
     "execution_count": 41,
     "metadata": {},
     "output_type": "execute_result"
    }
   ],
   "source": [
    "generation_df"
   ]
  },
  {
   "cell_type": "code",
   "execution_count": null,
   "id": "5562f0ec",
   "metadata": {},
   "outputs": [],
   "source": []
  }
 ],
 "metadata": {
  "kernelspec": {
   "display_name": "Python 3 (ipykernel)",
   "language": "python",
   "name": "python3"
  },
  "language_info": {
   "codemirror_mode": {
    "name": "ipython",
    "version": 3
   },
   "file_extension": ".py",
   "mimetype": "text/x-python",
   "name": "python",
   "nbconvert_exporter": "python",
   "pygments_lexer": "ipython3",
   "version": "3.8.10"
  }
 },
 "nbformat": 4,
 "nbformat_minor": 5
}
