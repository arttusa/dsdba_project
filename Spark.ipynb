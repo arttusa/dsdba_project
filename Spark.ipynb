{
 "cells": [
  {
   "cell_type": "code",
   "execution_count": 19,
   "id": "1e9c3877",
   "metadata": {},
   "outputs": [],
   "source": [
    "import findspark\n",
    "findspark.init()\n",
    "import pyspark\n",
    "from pyspark.sql import *\n",
    "from pyspark.sql.functions import when, lit"
   ]
  },
  {
   "cell_type": "code",
   "execution_count": null,
   "id": "173dd669",
   "metadata": {},
   "outputs": [],
   "source": [
    "##Add a new column \"Generation\" to the data and add values to the column by the age of the person\n",
    "## Thesis: younger people need more education to get same income comparing to older generations\n",
    "## proved wrong when comparing only averages of the generations: genZ have the highest income and boomers the lowest \n",
    "## but the average education for boomers is higher\n",
    "## Problem1: data might have elderly people on pension so income might be lower now comparing to their best years\n",
    "## Problem2: data might have students that dont have full-time job -> income lower\n",
    "## Problem3: some genZ havent had time to finish their higher level educations yet"
   ]
  },
  {
   "cell_type": "code",
   "execution_count": 3,
   "id": "075822b3",
   "metadata": {},
   "outputs": [
    {
     "name": "stderr",
     "output_type": "stream",
     "text": [
      "23/06/25 16:56:37 WARN Utils: Your hostname, DSaDBA resolves to a loopback address: 127.0.1.1; using 10.0.2.15 instead (on interface enp0s3)\n",
      "23/06/25 16:56:37 WARN Utils: Set SPARK_LOCAL_IP if you need to bind to another address\n",
      "Using Spark's default log4j profile: org/apache/spark/log4j-defaults.properties\n",
      "Setting default log level to \"WARN\".\n",
      "To adjust logging level use sc.setLogLevel(newLevel). For SparkR, use setLogLevel(newLevel).\n",
      "23/06/25 16:56:38 WARN NativeCodeLoader: Unable to load native-hadoop library for your platform... using builtin-java classes where applicable\n"
     ]
    }
   ],
   "source": [
    "sc = pyspark.SparkContext(appName=\"Pi\")\n",
    "spark = SparkSession(sc)"
   ]
  },
  {
   "cell_type": "code",
   "execution_count": 5,
   "id": "da58049f",
   "metadata": {},
   "outputs": [],
   "source": [
    "banking_df = spark.read.csv(\"data.csv\", inferSchema = True, header = True)"
   ]
  },
  {
   "cell_type": "code",
   "execution_count": 6,
   "id": "a3436d2c",
   "metadata": {},
   "outputs": [
    {
     "data": {
      "text/plain": [
       "Row(ID=1, Age=25, Experience=1, Income=49, ZIP Code=91107, Family=4, CCAvg=1.6, Education=1, Mortgage=0, Personal Loan=0, Securities Account=1, CD Account=0, Online=0, CreditCard=0)"
      ]
     },
     "execution_count": 6,
     "metadata": {},
     "output_type": "execute_result"
    }
   ],
   "source": [
    "banking_df.head()"
   ]
  },
  {
   "cell_type": "code",
   "execution_count": 7,
   "id": "7aaa262b",
   "metadata": {},
   "outputs": [
    {
     "name": "stdout",
     "output_type": "stream",
     "text": [
      "root\n",
      " |-- ID: integer (nullable = true)\n",
      " |-- Age: integer (nullable = true)\n",
      " |-- Experience: integer (nullable = true)\n",
      " |-- Income: integer (nullable = true)\n",
      " |-- ZIP Code: integer (nullable = true)\n",
      " |-- Family: integer (nullable = true)\n",
      " |-- CCAvg: double (nullable = true)\n",
      " |-- Education: integer (nullable = true)\n",
      " |-- Mortgage: integer (nullable = true)\n",
      " |-- Personal Loan: integer (nullable = true)\n",
      " |-- Securities Account: integer (nullable = true)\n",
      " |-- CD Account: integer (nullable = true)\n",
      " |-- Online: integer (nullable = true)\n",
      " |-- CreditCard: integer (nullable = true)\n",
      "\n"
     ]
    }
   ],
   "source": [
    "banking_df.printSchema()"
   ]
  },
  {
   "cell_type": "code",
   "execution_count": null,
   "id": "b2c0b65e",
   "metadata": {},
   "outputs": [],
   "source": [
    "## boomers are older than 59 this year (2023) 59-77 years old\n",
    "## generationX are older than 44 this year and less than 59 44-58 years old\n",
    "## milennials are older than 29 this year 29-43 years old\n",
    "## generationZ are older than 11 this year 11-28 years old\n"
   ]
  },
  {
   "cell_type": "code",
   "execution_count": 36,
   "id": "417104b2",
   "metadata": {},
   "outputs": [],
   "source": [
    "banking_df = banking_df.withColumn(\"Generation\",\n",
    "    when((banking_df.Age <= 28), lit(\"GenerationZ\"))\n",
    "    .when((banking_df.Age > 28) & (banking_df.Age <= 44), lit(\"Millennials\"))\n",
    "    .when((banking_df.Age > 44) & (banking_df.Age <= 59), lit(\"GenerationX\"))\n",
    "    .otherwise(lit(\"Boomers\"))\n",
    ")"
   ]
  },
  {
   "cell_type": "code",
   "execution_count": 37,
   "id": "aa3dbdf3",
   "metadata": {},
   "outputs": [
    {
     "data": {
      "text/plain": [
       "['ID',\n",
       " 'Age',\n",
       " 'Experience',\n",
       " 'Income',\n",
       " 'ZIP Code',\n",
       " 'Family',\n",
       " 'CCAvg',\n",
       " 'Education',\n",
       " 'Mortgage',\n",
       " 'Personal Loan',\n",
       " 'Securities Account',\n",
       " 'CD Account',\n",
       " 'Online',\n",
       " 'CreditCard',\n",
       " 'Generation']"
      ]
     },
     "execution_count": 37,
     "metadata": {},
     "output_type": "execute_result"
    }
   ],
   "source": [
    "banking_df.columns"
   ]
  },
  {
   "cell_type": "code",
   "execution_count": 45,
   "id": "0caeef05",
   "metadata": {},
   "outputs": [
    {
     "name": "stdout",
     "output_type": "stream",
     "text": [
      "+-----------+------------------+\n",
      "| Generation|    avg(Education)|\n",
      "+-----------+------------------+\n",
      "|GenerationX|1.8815925542916236|\n",
      "|Millennials|1.8663048840651209|\n",
      "|GenerationZ|1.8383561643835618|\n",
      "|    Boomers| 1.946587537091988|\n",
      "+-----------+------------------+\n",
      "\n"
     ]
    }
   ],
   "source": [
    "generationANDedu_df = banking_df.groupby(\"Generation\").avg(\"Education\")\n",
    "generationANDedu_df.show()"
   ]
  },
  {
   "cell_type": "code",
   "execution_count": 46,
   "id": "41b1f814",
   "metadata": {},
   "outputs": [
    {
     "name": "stdout",
     "output_type": "stream",
     "text": [
      "+-----------+-----------------+\n",
      "| Generation|      avg(Income)|\n",
      "+-----------+-----------------+\n",
      "|GenerationX|71.62668045501552|\n",
      "|Millennials|75.75974346324618|\n",
      "|GenerationZ|78.58630136986301|\n",
      "|    Boomers|71.35905044510386|\n",
      "+-----------+-----------------+\n",
      "\n"
     ]
    }
   ],
   "source": [
    "generationANDincome_df = banking_df.groupby(\"Generation\").avg(\"Income\")\n",
    "generationANDincome_df.show()"
   ]
  },
  {
   "cell_type": "code",
   "execution_count": null,
   "id": "bab76eed",
   "metadata": {},
   "outputs": [],
   "source": []
  }
 ],
 "metadata": {
  "kernelspec": {
   "display_name": "Python 3 (ipykernel)",
   "language": "python",
   "name": "python3"
  },
  "language_info": {
   "codemirror_mode": {
    "name": "ipython",
    "version": 3
   },
   "file_extension": ".py",
   "mimetype": "text/x-python",
   "name": "python",
   "nbconvert_exporter": "python",
   "pygments_lexer": "ipython3",
   "version": "3.8.10"
  }
 },
 "nbformat": 4,
 "nbformat_minor": 5
}
